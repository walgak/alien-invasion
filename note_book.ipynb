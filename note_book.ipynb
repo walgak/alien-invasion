{
 "cells": [
  {
   "cell_type": "code",
   "execution_count": 1,
   "metadata": {},
   "outputs": [
    {
     "name": "stdout",
     "output_type": "stream",
     "text": [
      "pygame 2.5.2 (SDL 2.28.3, Python 3.12.3)\n",
      "Hello from the pygame community. https://www.pygame.org/contribute.html\n"
     ]
    }
   ],
   "source": [
    "import sys\n",
    "\n",
    "import pygame"
   ]
  },
  {
   "cell_type": "code",
   "execution_count": 5,
   "metadata": {},
   "outputs": [],
   "source": [
    "class AlienInvasion:\n",
    "    \"\"\"This is the master class that will manage all game assets and behavior.\"\"\"\n",
    "\n",
    "    def __init__(self):\n",
    "        \"\"\"Initializes the game and creates game resources.\"\"\"\n",
    "        pygame.init()\n",
    "\n",
    "        self.screen = pygame.display.set_mode((1000, 700))\n",
    "        pygame.display.set_caption(\"ALien Invasion\")\n",
    "\n",
    "    def run_game(self):\n",
    "        \"\"\"Starts the main loop for the game\"\"\"\n",
    "        while True:\n",
    "            #Listing to keyboard and mouse events\n",
    "            for event in pygame.event.get():\n",
    "                if event.type == pygame.QUIT:\n",
    "                    sys.exit()\n",
    "\n",
    "            #Make the most recent drawn screen visible\n",
    "            pygame.display.flip()"
   ]
  },
  {
   "cell_type": "code",
   "execution_count": 6,
   "metadata": {},
   "outputs": [
    {
     "ename": "SystemExit",
     "evalue": "",
     "output_type": "error",
     "traceback": [
      "An exception has occurred, use %tb to see the full traceback.\n",
      "\u001b[0;31mSystemExit\u001b[0m\n"
     ]
    },
    {
     "name": "stderr",
     "output_type": "stream",
     "text": [
      "/Library/Frameworks/Python.framework/Versions/3.12/lib/python3.12/site-packages/IPython/core/interactiveshell.py:3585: UserWarning: To exit: use 'exit', 'quit', or Ctrl-D.\n",
      "  warn(\"To exit: use 'exit', 'quit', or Ctrl-D.\", stacklevel=1)\n"
     ]
    },
    {
     "ename": "",
     "evalue": "",
     "output_type": "error",
     "traceback": [
      "\u001b[1;31mThe Kernel crashed while executing code in the current cell or a previous cell. \n",
      "\u001b[1;31mPlease review the code in the cell(s) to identify a possible cause of the failure. \n",
      "\u001b[1;31mClick <a href='https://aka.ms/vscodeJupyterKernelCrash'>here</a> for more info. \n",
      "\u001b[1;31mView Jupyter <a href='command:jupyter.viewOutput'>log</a> for further details."
     ]
    }
   ],
   "source": [
    "if __name__ == '__main__':\n",
    "    #Make a game instance, and run the game.\n",
    "    ai = AlienInvasion()\n",
    "    ai.run_game()"
   ]
  },
  {
   "cell_type": "code",
   "execution_count": 1,
   "metadata": {},
   "outputs": [
    {
     "name": "stdout",
     "output_type": "stream",
     "text": [
      "pygame 2.5.2 (SDL 2.28.3, Python 3.12.3)\n",
      "Hello from the pygame community. https://www.pygame.org/contribute.html\n"
     ]
    }
   ],
   "source": [
    "import pygame\n",
    "\n",
    "class Ship:\n",
    "    \"\"\"A class to manage the ship\"\"\"\n",
    "    #Attribute 'game' is of type AlienInvation from alien_invation.py\n",
    "\n",
    "    def __init__(self, game):\n",
    "        \"\"\"Initialize the ship and set it's starting postion\"\"\"\n",
    "        self.screen = game.screen\n",
    "        self.screen_rect = game.screen.get_rect()\n",
    "\n",
    "        #Load ship image and get its rect\n",
    "        self.image = pygame.image.load('images/ship.bmp')\n",
    "        self.rect = self.image.get_rect()\n",
    "\n",
    "        #Set ship position to the bottom of the sreen\n",
    "        self.rect.midbottom = self.screen_rect.midbottom\n",
    "\n",
    "    def blitme(self):\n",
    "        \"\"\"Draw the ship at it's current location\"\"\"\n",
    "        self.screen.blit(self.image, self.rect)"
   ]
  }
 ],
 "metadata": {
  "kernelspec": {
   "display_name": "Python 3",
   "language": "python",
   "name": "python3"
  },
  "language_info": {
   "codemirror_mode": {
    "name": "ipython",
    "version": 3
   },
   "file_extension": ".py",
   "mimetype": "text/x-python",
   "name": "python",
   "nbconvert_exporter": "python",
   "pygments_lexer": "ipython3",
   "version": "3.12.3"
  }
 },
 "nbformat": 4,
 "nbformat_minor": 2
}
